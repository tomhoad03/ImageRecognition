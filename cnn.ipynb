{
 "cells": [
  {
   "cell_type": "code",
   "execution_count": 1,
   "metadata": {},
   "outputs": [],
   "source": [
    "import numpy as np\n",
    "import os\n",
    "import PIL\n",
    "import PIL.Image\n",
    "import tensorflow as tf\n",
    "import tensorflow_datasets as tfds"
   ]
  },
  {
   "cell_type": "code",
   "execution_count": 11,
   "metadata": {
    "pycharm": {
     "name": "#%%\n"
    }
   },
   "outputs": [
    {
     "name": "stdout",
     "output_type": "stream",
     "text": [
      "2.5.0\n",
      "[name: \"/device:CPU:0\"\n",
      "device_type: \"CPU\"\n",
      "memory_limit: 268435456\n",
      "locality {\n",
      "}\n",
      "incarnation: 17744252773303032579\n",
      "]\n"
     ]
    }
   ],
   "source": [
    "print(tf.__version__)\n",
    "\n",
    "from tensorflow.python.client import device_lib\n",
    "print(device_lib.list_local_devices())"
   ]
  },
  {
   "cell_type": "code",
   "execution_count": 12,
   "metadata": {
    "pycharm": {
     "name": "#%%\n"
    }
   },
   "outputs": [
    {
     "name": "stdout",
     "output_type": "stream",
     "text": [
      "Found 1500 images belonging to 15 classes.\n",
      "Found 2985 images belonging to 1 classes.\n"
     ]
    }
   ],
   "source": [
    "from keras_preprocessing.image import ImageDataGenerator\n",
    "\n",
    "num_classes = 15\n",
    "\n",
    "# create a data generator\n",
    "datagen = ImageDataGenerator()\n",
    "train_it = datagen.flow_from_directory('images/training', class_mode='binary', batch_size=64)\n",
    "test_it = datagen.flow_from_directory('images/testing', batch_size=64)"
   ]
  },
  {
   "cell_type": "code",
   "execution_count": 14,
   "metadata": {
    "pycharm": {
     "name": "#%%\n"
    }
   },
   "outputs": [],
   "source": [
    "#define model\n",
    "model = tf.keras.Sequential([\n",
    "    tf.keras.layers.Conv2D(32, 3, activation='relu'),\n",
    "    tf.keras.layers.MaxPooling2D(),\n",
    "    tf.keras.layers.Conv2D(32, 3, activation='relu'),\n",
    "    tf.keras.layers.MaxPooling2D(),\n",
    "    tf.keras.layers.Conv2D(32, 3, activation='relu'),\n",
    "    tf.keras.layers.MaxPooling2D(),\n",
    "    tf.keras.layers.Flatten(),\n",
    "    tf.keras.layers.Dense(128, activation='relu'),\n",
    "    tf.keras.layers.Dense(num_classes)\n",
    "])\n",
    "model.compile(optimizer='adam',\n",
    "              loss=tf.keras.losses.SparseCategoricalCrossentropy(from_logits=True),\n",
    "              metrics=['accuracy'])"
   ]
  },
  {
   "cell_type": "code",
   "execution_count": 15,
   "metadata": {
    "pycharm": {
     "name": "#%%\n"
    }
   },
   "outputs": [
    {
     "name": "stdout",
     "output_type": "stream",
     "text": [
      "Epoch 1/10\n",
      "24/24 [==============================] - 13s 521ms/step - loss: 77.1345 - accuracy: 0.0767\n",
      "Epoch 2/10\n",
      "24/24 [==============================] - 13s 518ms/step - loss: 2.2499 - accuracy: 0.3133\n",
      "Epoch 3/10\n",
      "24/24 [==============================] - 12s 510ms/step - loss: 1.1811 - accuracy: 0.6553\n",
      "Epoch 4/10\n",
      "24/24 [==============================] - 12s 500ms/step - loss: 0.4427 - accuracy: 0.8900\n",
      "Epoch 5/10\n",
      "24/24 [==============================] - 13s 519ms/step - loss: 0.1981 - accuracy: 0.9513\n",
      "Epoch 6/10\n",
      "24/24 [==============================] - 13s 521ms/step - loss: 0.1636 - accuracy: 0.9633\n",
      "Epoch 7/10\n",
      "24/24 [==============================] - 12s 507ms/step - loss: 0.0933 - accuracy: 0.9813\n",
      "Epoch 8/10\n",
      "24/24 [==============================] - 12s 508ms/step - loss: 0.0628 - accuracy: 0.9873\n",
      "Epoch 9/10\n",
      "24/24 [==============================] - 13s 522ms/step - loss: 0.0571 - accuracy: 0.9907\n",
      "Epoch 10/10\n",
      "24/24 [==============================] - 12s 504ms/step - loss: 0.0882 - accuracy: 0.9833\n"
     ]
    },
    {
     "data": {
      "text/plain": "<tensorflow.python.keras.callbacks.History at 0x1cb3f2ab160>"
     },
     "execution_count": 15,
     "metadata": {},
     "output_type": "execute_result"
    }
   ],
   "source": [
    "#train model\n",
    "model.fit_generator(train_it, steps_per_epoch=24, epochs=10) #1500 / 64"
   ]
  },
  {
   "cell_type": "code",
   "execution_count": 16,
   "metadata": {
    "pycharm": {
     "name": "#%%\n"
    }
   },
   "outputs": [
    {
     "name": "stderr",
     "output_type": "stream",
     "text": [
      "C:\\Users\\jakub\\anaconda3\\envs\\py39\\lib\\site-packages\\tensorflow\\python\\keras\\engine\\sequential.py:455: UserWarning: `model.predict_classes()` is deprecated and will be removed after 2021-01-01. Please use instead:* `np.argmax(model.predict(x), axis=-1)`,   if your model does multi-class classification   (e.g. if it uses a `softmax` last-layer activation).* `(model.predict(x) > 0.5).astype(\"int32\")`,   if your model does binary classification   (e.g. if it uses a `sigmoid` last-layer activation).\n",
      "  warnings.warn('`model.predict_classes()` is deprecated and '\n"
     ]
    }
   ],
   "source": [
    "# evaluate model\n",
    "\n",
    "class_labels = [\"bedroom\", \"Coast\", \"Forest\", \"Highway\", \"industrial\", \"Insidecity\", \"kitchen\", \"livingroom\", \"Mountain\", \"Office\", \"OpenCountry\", \"store\", \"Street\", \"Suburb\", \"TallBuilding\"]\n",
    "\n",
    "df = model.predict_classes(test_it, batch_size=64)\n",
    "with open('run3.txt', 'w') as f:\n",
    "    for row in df:\n",
    "        f.write(str(row)+\".jpg \"+class_labels[row]+\"\\n\")"
   ]
  }
 ],
 "metadata": {
  "kernelspec": {
   "display_name": "Python 3 (ipykernel)",
   "language": "python",
   "name": "python3"
  },
  "language_info": {
   "codemirror_mode": {
    "name": "ipython",
    "version": 3
   },
   "file_extension": ".py",
   "mimetype": "text/x-python",
   "name": "python",
   "nbconvert_exporter": "python",
   "pygments_lexer": "ipython3",
   "version": "3.9.6"
  }
 },
 "nbformat": 4,
 "nbformat_minor": 1
}